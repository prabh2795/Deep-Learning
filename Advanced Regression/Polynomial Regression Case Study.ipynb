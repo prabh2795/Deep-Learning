{
 "cells": [
  {
   "cell_type": "code",
   "execution_count": 1,
   "metadata": {
    "id": "7q9s7AAxgDGY"
   },
   "outputs": [],
   "source": [
    "# importing the requisite libraries\n",
    "\n",
    "import numpy as np\n",
    "import pandas as pd\n",
    "import matplotlib.pyplot as plt\n",
    "import seaborn as sns\n",
    "from sklearn.linear_model import LinearRegression\n",
    "from sklearn.metrics import r2_score, mean_squared_error\n",
    "\n",
    "import warnings\n",
    "warnings.filterwarnings('ignore')"
   ]
  },
  {
   "cell_type": "markdown",
   "metadata": {
    "id": "UyR0EdRHm3lb"
   },
   "source": [
    "### Modeling non-linear relationship using Polynomial Regression"
   ]
  },
  {
   "cell_type": "code",
   "execution_count": 2,
   "metadata": {
    "colab": {
     "base_uri": "https://localhost:8080/",
     "height": 195
    },
    "id": "8KNPRGw2VYJ6",
    "outputId": "f54a23d0-d3af-4dac-fcd1-1f4f6a2ef1c8"
   },
   "outputs": [
    {
     "data": {
      "text/html": [
       "<div>\n",
       "<style scoped>\n",
       "    .dataframe tbody tr th:only-of-type {\n",
       "        vertical-align: middle;\n",
       "    }\n",
       "\n",
       "    .dataframe tbody tr th {\n",
       "        vertical-align: top;\n",
       "    }\n",
       "\n",
       "    .dataframe thead th {\n",
       "        text-align: right;\n",
       "    }\n",
       "</style>\n",
       "<table border=\"1\" class=\"dataframe\">\n",
       "  <thead>\n",
       "    <tr style=\"text-align: right;\">\n",
       "      <th></th>\n",
       "      <th>number_courses</th>\n",
       "      <th>time_study</th>\n",
       "      <th>Marks</th>\n",
       "    </tr>\n",
       "  </thead>\n",
       "  <tbody>\n",
       "    <tr>\n",
       "      <th>0</th>\n",
       "      <td>3</td>\n",
       "      <td>4.508</td>\n",
       "      <td>19.202</td>\n",
       "    </tr>\n",
       "    <tr>\n",
       "      <th>1</th>\n",
       "      <td>4</td>\n",
       "      <td>0.096</td>\n",
       "      <td>7.734</td>\n",
       "    </tr>\n",
       "    <tr>\n",
       "      <th>2</th>\n",
       "      <td>4</td>\n",
       "      <td>3.133</td>\n",
       "      <td>13.811</td>\n",
       "    </tr>\n",
       "    <tr>\n",
       "      <th>3</th>\n",
       "      <td>6</td>\n",
       "      <td>7.909</td>\n",
       "      <td>53.018</td>\n",
       "    </tr>\n",
       "    <tr>\n",
       "      <th>4</th>\n",
       "      <td>8</td>\n",
       "      <td>7.811</td>\n",
       "      <td>55.299</td>\n",
       "    </tr>\n",
       "  </tbody>\n",
       "</table>\n",
       "</div>"
      ],
      "text/plain": [
       "   number_courses  time_study   Marks\n",
       "0               3       4.508  19.202\n",
       "1               4       0.096   7.734\n",
       "2               4       3.133  13.811\n",
       "3               6       7.909  53.018\n",
       "4               8       7.811  55.299"
      ]
     },
     "execution_count": 2,
     "metadata": {},
     "output_type": "execute_result"
    }
   ],
   "source": [
    "# Model to predict marks given the number of courses taken and the time the student gives to study \n",
    "# on a daily basis.\n",
    "data = pd.read_csv(\"AR - Examples - 1.6.csv\")\n",
    "data.head()"
   ]
  },
  {
   "cell_type": "code",
   "execution_count": 3,
   "metadata": {
    "colab": {
     "base_uri": "https://localhost:8080/",
     "height": 297
    },
    "id": "nQQC0bwpYH0n",
    "outputId": "a9db6163-f0b9-4770-aac6-dc305a89c7cd"
   },
   "outputs": [
    {
     "data": {
      "text/plain": [
       "<AxesSubplot:xlabel='number_courses', ylabel='Marks'>"
      ]
     },
     "execution_count": 3,
     "metadata": {},
     "output_type": "execute_result"
    },
    {
     "data": {
      "image/png": "[encoded data removed]",
      "text/plain": [
       "<Figure size 432x288 with 1 Axes>"
      ]
     },
     "metadata": {
      "needs_background": "light"
     },
     "output_type": "display_data"
    }
   ],
   "source": [
    "# Plotting a scatter plot\n",
    "sns.scatterplot( data = data , x = 'number_courses' , y = 'Marks')"
   ]
  },
  {
   "cell_type": "code",
   "execution_count": 4,
   "metadata": {
    "colab": {
     "base_uri": "https://localhost:8080/",
     "height": 297
    },
    "id": "H-YVPqtbYH0r",
    "outputId": "ae370dc2-6fc4-43e9-f676-4c0bf2dbc5dd"
   },
   "outputs": [
    {
     "data": {
      "text/plain": [
       "<AxesSubplot:xlabel='time_study', ylabel='Marks'>"
      ]
     },
     "execution_count": 4,
     "metadata": {},
     "output_type": "execute_result"
    },
    {
     "data": {
      "image/png": "[encoded data removed]",
      "text/plain": [
       "<Figure size 432x288 with 1 Axes>"
      ]
     },
     "metadata": {
      "needs_background": "light"
     },
     "output_type": "display_data"
    }
   ],
   "source": [
    "# Plotting a scatter plot\n",
    "sns.scatterplot( data = data , x = 'time_study' , y = 'Marks')"
   ]
  },
  {
   "cell_type": "code",
   "execution_count": 5,
   "metadata": {
    "id": "wyzsOLxvYH0y"
   },
   "outputs": [],
   "source": [
    "# Splitting the dataset into X and y\n",
    "X = data[['number_courses' , 'time_study']]\n",
    "y = np.array(data['Marks']).reshape(-1,1)"
   ]
  },
  {
   "cell_type": "code",
   "execution_count": 6,
   "metadata": {
    "colab": {
     "base_uri": "https://localhost:8080/"
    },
    "id": "aGX4nAAPYH00",
    "outputId": "24eaadb7-9aca-47e6-aab1-b6ef00f942da"
   },
   "outputs": [
    {
     "data": {
      "text/plain": [
       "LinearRegression()"
      ]
     },
     "execution_count": 6,
     "metadata": {},
     "output_type": "execute_result"
    }
   ],
   "source": [
    "# Building the regression model\n",
    "reg = LinearRegression()\n",
    "reg.fit(X,y)"
   ]
  },
  {
   "cell_type": "code",
   "execution_count": 7,
   "metadata": {
    "id": "IqDN8e84YH02"
   },
   "outputs": [],
   "source": [
    "# Predictions on the basis of the model\n",
    "y_pred = reg.predict(X)\n",
    "#y_pred"
   ]
  },
  {
   "cell_type": "code",
   "execution_count": 8,
   "metadata": {
    "colab": {
     "base_uri": "https://localhost:8080/"
    },
    "id": "pegMvW_DYH04",
    "outputId": "ee61d305-9db9-493d-bf4f-156cbf429f87"
   },
   "outputs": [
    {
     "data": {
      "text/plain": [
       "0.9403656320238896"
      ]
     },
     "execution_count": 8,
     "metadata": {},
     "output_type": "execute_result"
    }
   ],
   "source": [
    "# Find the value of r squared\n",
    "r2_score(y , y_pred)"
   ]
  },
  {
   "cell_type": "code",
   "execution_count": 9,
   "metadata": {
    "colab": {
     "base_uri": "https://localhost:8080/"
    },
    "id": "ekn8Kn8ZYH1D",
    "outputId": "fe9cd9bf-750e-4228-8637-668fc76d3b11"
   },
   "outputs": [
    {
     "name": "stdout",
     "output_type": "stream",
     "text": [
      "[-7.45634623]\n",
      "[[1.86405074 5.39917879]]\n"
     ]
    }
   ],
   "source": [
    "# Calculate beta0 and beta1.\n",
    "print(reg.intercept_)\n",
    "print(reg.coef_)"
   ]
  },
  {
   "cell_type": "code",
   "execution_count": 10,
   "metadata": {
    "colab": {
     "base_uri": "https://localhost:8080/"
    },
    "id": "cdlVIYH1YH1F",
    "outputId": "fd2f3ccd-f4bd-4226-f6d9-fedebb168cbb"
   },
   "outputs": [
    {
     "name": "stdout",
     "output_type": "stream",
     "text": [
      "1211.696206910895\n",
      "12.116962069108949\n",
      "3.4809426983374703\n"
     ]
    }
   ],
   "source": [
    "# Metrics to give an overall sense of error in the model\n",
    "rss = np.sum(np.square(y - y_pred))\n",
    "print(rss)\n",
    "mse = mean_squared_error(y, y_pred)\n",
    "print(mse)\n",
    "rmse = mse**0.5\n",
    "print(rmse)"
   ]
  },
  {
   "cell_type": "code",
   "execution_count": 11,
   "metadata": {
    "id": "J9PaDywRYH1H"
   },
   "outputs": [],
   "source": [
    "# Residual analysis\n",
    "y_res = y - y_pred\n",
    "#y_res"
   ]
  },
  {
   "cell_type": "code",
   "execution_count": 12,
   "metadata": {
    "colab": {
     "base_uri": "https://localhost:8080/",
     "height": 279
    },
    "id": "TLShNOYsM737",
    "outputId": "d0065de5-2fab-471d-d8e0-350812eae860"
   },
   "outputs": [
    {
     "data": {
      "image/png": "[encoded data removed]",
      "text/plain": [
       "<Figure size 432x288 with 1 Axes>"
      ]
     },
     "metadata": {
      "needs_background": "light"
     },
     "output_type": "display_data"
    }
   ],
   "source": [
    "data['res'] = y_res\n",
    "plt.scatter( y_pred , data['res'])\n",
    "plt.axhline(y=0, color='r', linestyle=':')\n",
    "plt.xlabel(\"Predictions\")\n",
    "plt.ylabel(\"Residual\")\n",
    "plt.show()"
   ]
  },
  {
   "cell_type": "markdown",
   "metadata": {
    "id": "-BwrFMy5ekn0"
   },
   "source": [
    "Checking which variable is non-linearly related to the response value"
   ]
  },
  {
   "cell_type": "code",
   "execution_count": 13,
   "metadata": {
    "colab": {
     "base_uri": "https://localhost:8080/",
     "height": 279
    },
    "id": "EAT8NM-KYH1K",
    "outputId": "2345b753-27ff-4278-f4ca-4248f75bc5ee"
   },
   "outputs": [
    {
     "data": {
      "image/png": "[encoded data removed]",
      "text/plain": [
       "<Figure size 432x288 with 1 Axes>"
      ]
     },
     "metadata": {
      "needs_background": "light"
     },
     "output_type": "display_data"
    }
   ],
   "source": [
    "data['res'] = y_res\n",
    "plt.scatter( data['number_courses'] , data['res'])\n",
    "plt.axhline(y=0, color='r', linestyle=':')\n",
    "plt.xlabel(\"Number courses\")\n",
    "plt.ylabel(\"Residual\")\n",
    "plt.show()"
   ]
  },
  {
   "cell_type": "code",
   "execution_count": 14,
   "metadata": {
    "colab": {
     "base_uri": "https://localhost:8080/",
     "height": 279
    },
    "id": "5Y2GAw74Z2yf",
    "outputId": "2635eda9-ecc4-46b3-bde2-3cb2969ccf8d"
   },
   "outputs": [
    {
     "data": {
      "image/png": "[encoded data removed]",
      "text/plain": [
       "<Figure size 432x288 with 1 Axes>"
      ]
     },
     "metadata": {
      "needs_background": "light"
     },
     "output_type": "display_data"
    }
   ],
   "source": [
    "plt.scatter( data['time_study'] , data['res'])\n",
    "plt.axhline(y=0, color='r', linestyle=':')\n",
    "plt.xlabel(\"Time study\")\n",
    "plt.ylabel(\"Residual\")\n",
    "plt.show()"
   ]
  },
  {
   "cell_type": "code",
   "execution_count": 15,
   "metadata": {
    "colab": {
     "base_uri": "https://localhost:8080/",
     "height": 295
    },
    "id": "SR569GE7YH1M",
    "outputId": "8b2d7f51-6357-4cb7-d02f-3d21b26e43e0"
   },
   "outputs": [
    {
     "data": {
      "image/png": "[encoded data removed]",
      "text/plain": [
       "<Figure size 432x288 with 1 Axes>"
      ]
     },
     "metadata": {
      "needs_background": "light"
     },
     "output_type": "display_data"
    }
   ],
   "source": [
    "# Distribution of errors\n",
    "p = sns.distplot(y_res,kde=True)\n",
    "\n",
    "p = plt.title('Normality of error terms/residuals')\n",
    "plt.xlabel(\"Residuals\")\n",
    "plt.show()"
   ]
  },
  {
   "cell_type": "code",
   "execution_count": null,
   "metadata": {
    "id": "jLUTX2Ezekn2"
   },
   "outputs": [],
   "source": []
  },
  {
   "cell_type": "code",
   "execution_count": null,
   "metadata": {
    "id": "fw5zjyUrekn2"
   },
   "outputs": [],
   "source": []
  },
  {
   "cell_type": "code",
   "execution_count": null,
   "metadata": {
    "id": "af-Dc2Nrekn2"
   },
   "outputs": [],
   "source": []
  },
  {
   "cell_type": "code",
   "execution_count": null,
   "metadata": {
    "id": "KB3eSTsgekn2"
   },
   "outputs": [],
   "source": []
  },
  {
   "cell_type": "code",
   "execution_count": null,
   "metadata": {
    "id": "NjvX_GhRekn3"
   },
   "outputs": [],
   "source": []
  },
  {
   "cell_type": "code",
   "execution_count": null,
   "metadata": {
    "id": "XlLLghKmekn3"
   },
   "outputs": [],
   "source": []
  },
  {
   "cell_type": "code",
   "execution_count": null,
   "metadata": {
    "id": "hBqRB8gCekn3"
   },
   "outputs": [],
   "source": []
  },
  {
   "cell_type": "code",
   "execution_count": null,
   "metadata": {
    "id": "p2OJkPrIekn3"
   },
   "outputs": [],
   "source": []
  },
  {
   "cell_type": "code",
   "execution_count": null,
   "metadata": {
    "id": "Rj0jIVH0ekn4"
   },
   "outputs": [],
   "source": []
  },
  {
   "cell_type": "code",
   "execution_count": null,
   "metadata": {
    "id": "pBLhdxX8ekn4"
   },
   "outputs": [],
   "source": []
  },
  {
   "cell_type": "code",
   "execution_count": null,
   "metadata": {
    "id": "422KhyOLekn4"
   },
   "outputs": [],
   "source": []
  },
  {
   "cell_type": "markdown",
   "metadata": {
    "id": "2sJeRTkqvtW5"
   },
   "source": [
    "### Fitting Polynomial Regression Model "
   ]
  },
  {
   "cell_type": "code",
   "execution_count": 16,
   "metadata": {
    "id": "1Y7IkfB4aGhC"
   },
   "outputs": [],
   "source": [
    "# Transforming the time_study variable\n",
    "data['time_study_squared'] = data['time_study']*data['time_study']"
   ]
  },
  {
   "cell_type": "code",
   "execution_count": 17,
   "metadata": {
    "colab": {
     "base_uri": "https://localhost:8080/",
     "height": 279
    },
    "id": "dYSB-UWCQ2Jq",
    "outputId": "5dc2b64d-3e13-4c41-c143-025edefa0bc7"
   },
   "outputs": [
    {
     "data": {
      "image/png": "[encoded data removed]",
      "text/plain": [
       "<Figure size 432x288 with 1 Axes>"
      ]
     },
     "metadata": {
      "needs_background": "light"
     },
     "output_type": "display_data"
    }
   ],
   "source": [
    "plt.scatter( data['time_study_squared'] , data['Marks'])\n",
    "plt.xlabel(\"Time study squared\")\n",
    "plt.ylabel(\"Marks\")\n",
    "plt.show()"
   ]
  },
  {
   "cell_type": "code",
   "execution_count": 18,
   "metadata": {
    "id": "Asbt6moioop2"
   },
   "outputs": [],
   "source": [
    "# Splitting the dataset into X and y\n",
    "X = data[['number_courses' , 'time_study', 'time_study_squared']] \n",
    "y = np.array(data['Marks']).reshape(-1,1)"
   ]
  },
  {
   "cell_type": "code",
   "execution_count": 19,
   "metadata": {
    "colab": {
     "base_uri": "https://localhost:8080/"
    },
    "id": "aRbQ3STYoop6",
    "outputId": "8fe8ee84-2e70-432d-fbb3-d8eb4a7a35d8"
   },
   "outputs": [
    {
     "data": {
      "text/plain": [
       "LinearRegression()"
      ]
     },
     "execution_count": 19,
     "metadata": {},
     "output_type": "execute_result"
    }
   ],
   "source": [
    "# Building the regression model\n",
    "reg = LinearRegression()\n",
    "reg.fit(X,y)"
   ]
  },
  {
   "cell_type": "code",
   "execution_count": 20,
   "metadata": {
    "id": "iwlR0PG6oop9"
   },
   "outputs": [],
   "source": [
    "# Predictions on the basis of the model\n",
    "y_pred = reg.predict(X)\n",
    "# y_pred"
   ]
  },
  {
   "cell_type": "code",
   "execution_count": 21,
   "metadata": {
    "colab": {
     "base_uri": "https://localhost:8080/"
    },
    "id": "bUGyZkBSooqA",
    "outputId": "0a4bbd46-b22a-4c25-a0b8-56c3e7806fec"
   },
   "outputs": [
    {
     "data": {
      "text/plain": [
       "0.9996529294889802"
      ]
     },
     "execution_count": 21,
     "metadata": {},
     "output_type": "execute_result"
    }
   ],
   "source": [
    "# Find the value of r squared\n",
    "r2_score(y , y_pred)"
   ]
  },
  {
   "cell_type": "code",
   "execution_count": 22,
   "metadata": {
    "colab": {
     "base_uri": "https://localhost:8080/",
     "height": 279
    },
    "id": "HgAjmrchooqC",
    "outputId": "4d10e682-7961-426b-8647-c5fdb10680fb"
   },
   "outputs": [
    {
     "data": {
      "image/png": "[encoded data removed]",
      "text/plain": [
       "<Figure size 432x288 with 1 Axes>"
      ]
     },
     "metadata": {
      "needs_background": "light"
     },
     "output_type": "display_data"
    }
   ],
   "source": [
    "plt.scatter( X['number_courses'] , y , color = 'red')\n",
    "plt.scatter( X['number_courses'] , y_pred , color = 'blue' )\n",
    "plt.xlabel(\"Number Courses\")\n",
    "plt.ylabel(\"Marks\")\n",
    "plt.show()"
   ]
  },
  {
   "cell_type": "code",
   "execution_count": 23,
   "metadata": {
    "colab": {
     "base_uri": "https://localhost:8080/",
     "height": 279
    },
    "id": "yFdPbj-EooqE",
    "outputId": "6c813a80-b936-46fd-8f14-39f0fe6b42b2"
   },
   "outputs": [
    {
     "data": {
      "image/png": "[encoded data removed]",
      "text/plain": [
       "<Figure size 432x288 with 1 Axes>"
      ]
     },
     "metadata": {
      "needs_background": "light"
     },
     "output_type": "display_data"
    }
   ],
   "source": [
    "plt.scatter( X['time_study_squared'] , y , color = 'red')\n",
    "plt.scatter( X['time_study_squared'] , y_pred , color = 'blue' )\n",
    "plt.xlabel(\"Time Study Squared\")\n",
    "plt.ylabel(\"Marks\")\n",
    "plt.show()"
   ]
  },
  {
   "cell_type": "code",
   "execution_count": 24,
   "metadata": {
    "colab": {
     "base_uri": "https://localhost:8080/"
    },
    "id": "nr6m2q7PooqG",
    "outputId": "f15e09e1-d7e3-425b-81b8-1de51931a714"
   },
   "outputs": [
    {
     "name": "stdout",
     "output_type": "stream",
     "text": [
      "[0.56299581]\n",
      "[[ 1.70546941 -0.02855268  0.67346253]]\n"
     ]
    }
   ],
   "source": [
    "# Calculate beta0 and beta1.\n",
    "print(reg.intercept_)\n",
    "print(reg.coef_)"
   ]
  },
  {
   "cell_type": "code",
   "execution_count": 25,
   "metadata": {
    "colab": {
     "base_uri": "https://localhost:8080/"
    },
    "id": "AgaZ_6gbooqI",
    "outputId": "38837445-9091-455d-f012-8ccc069e81cb"
   },
   "outputs": [
    {
     "name": "stdout",
     "output_type": "stream",
     "text": [
      "7.052041230683787\n",
      "0.07052041230683787\n",
      "0.2655567967626471\n"
     ]
    }
   ],
   "source": [
    "#Residual Sum of Squares = Mean_Squared_Error * Total number of datapoints\n",
    "rss = np.sum(np.square(y - y_pred))\n",
    "print(rss)\n",
    "mse = mean_squared_error(y, y_pred)\n",
    "print(mse)\n",
    "rmse = mse**0.5\n",
    "print(rmse)"
   ]
  },
  {
   "cell_type": "code",
   "execution_count": 26,
   "metadata": {
    "id": "jHrr08xdooqK"
   },
   "outputs": [],
   "source": [
    "# Residual analysis\n",
    "y_res = y - y_pred\n",
    "#y_res"
   ]
  },
  {
   "cell_type": "code",
   "execution_count": 27,
   "metadata": {
    "colab": {
     "base_uri": "https://localhost:8080/",
     "height": 279
    },
    "id": "qYGD-wiXekn9",
    "outputId": "e9be2d48-1a4c-4753-c198-e4c4db91ae31"
   },
   "outputs": [
    {
     "data": {
      "image/png": "[encoded data removed]",
      "text/plain": [
       "<Figure size 432x288 with 1 Axes>"
      ]
     },
     "metadata": {
      "needs_background": "light"
     },
     "output_type": "display_data"
    }
   ],
   "source": [
    "data['res'] = y_res\n",
    "plt.scatter( y_pred , data['res'])\n",
    "plt.axhline(y=0, color='r', linestyle=':')\n",
    "plt.xlabel(\"Predictions\")\n",
    "plt.ylabel(\"Residual\")\n",
    "plt.show()"
   ]
  },
  {
   "cell_type": "code",
   "execution_count": 28,
   "metadata": {
    "colab": {
     "base_uri": "https://localhost:8080/",
     "height": 279
    },
    "id": "YH1-x6xlooqN",
    "outputId": "ce231022-0936-4fcc-c8d5-8acc879d4ec0"
   },
   "outputs": [
    {
     "data": {
      "image/png": "[encoded data removed]",
      "text/plain": [
       "<Figure size 432x288 with 1 Axes>"
      ]
     },
     "metadata": {
      "needs_background": "light"
     },
     "output_type": "display_data"
    }
   ],
   "source": [
    "data['res'] = y_res\n",
    "plt.scatter( data['number_courses'] , data['res'])\n",
    "plt.axhline(y=0, color='r', linestyle=':')\n",
    "plt.xlabel(\"Number courses\")\n",
    "plt.ylabel(\"Residual\")\n",
    "plt.show()"
   ]
  },
  {
   "cell_type": "code",
   "execution_count": 29,
   "metadata": {
    "colab": {
     "base_uri": "https://localhost:8080/",
     "height": 279
    },
    "id": "XcE_5tXRooqP",
    "outputId": "c033484e-733d-4a36-f83c-cb2b3a8ee0ee"
   },
   "outputs": [
    {
     "data": {
      "image/png": "[encoded data removed]",
      "text/plain": [
       "<Figure size 432x288 with 1 Axes>"
      ]
     },
     "metadata": {
      "needs_background": "light"
     },
     "output_type": "display_data"
    }
   ],
   "source": [
    "plt.scatter( data['time_study_squared'] , data['res'])\n",
    "plt.axhline(y=0, color='r', linestyle=':')\n",
    "plt.xlabel(\"Time study Squared\")\n",
    "plt.ylabel(\"Residual\")\n",
    "plt.show()"
   ]
  },
  {
   "cell_type": "code",
   "execution_count": 30,
   "metadata": {
    "colab": {
     "base_uri": "https://localhost:8080/",
     "height": 295
    },
    "id": "806WZJMvooqT",
    "outputId": "4ebbc0dc-53e5-4e7b-ab2e-83bfc00f5142"
   },
   "outputs": [
    {
     "data": {
      "image/png": "[encoded data removed]",
      "text/plain": [
       "<Figure size 432x288 with 1 Axes>"
      ]
     },
     "metadata": {
      "needs_background": "light"
     },
     "output_type": "display_data"
    }
   ],
   "source": [
    "# Distribution of errors\n",
    "p = sns.distplot(y_res,kde=True)\n",
    "\n",
    "p = plt.title('Normality of error terms/residuals')\n",
    "plt.xlabel(\"Residuals\")\n",
    "plt.show()"
   ]
  },
  {
   "cell_type": "code",
   "execution_count": null,
   "metadata": {
    "id": "arw-Zo8mSRV7"
   },
   "outputs": [],
   "source": []
  },
  {
   "cell_type": "markdown",
   "metadata": {
    "id": "AB-7WEzzmvET"
   },
   "source": [
    "### Modeling non-linear relationships using data transformation"
   ]
  },
  {
   "cell_type": "markdown",
   "metadata": {
    "id": "8k50BFpznpkw"
   },
   "source": [
    "Here, we need to make a model which predicts how much distance is covered by a truck in a given time unit after a break is applied."
   ]
  },
  {
   "cell_type": "code",
   "execution_count": 31,
   "metadata": {
    "colab": {
     "base_uri": "https://localhost:8080/",
     "height": 195
    },
    "id": "OCXjKgllP0Lk",
    "outputId": "ec02c9c4-fc3a-43ec-9917-da4123ed0627"
   },
   "outputs": [
    {
     "data": {
      "text/html": [
       "<div>\n",
       "<style scoped>\n",
       "    .dataframe tbody tr th:only-of-type {\n",
       "        vertical-align: middle;\n",
       "    }\n",
       "\n",
       "    .dataframe tbody tr th {\n",
       "        vertical-align: top;\n",
       "    }\n",
       "\n",
       "    .dataframe thead th {\n",
       "        text-align: right;\n",
       "    }\n",
       "</style>\n",
       "<table border=\"1\" class=\"dataframe\">\n",
       "  <thead>\n",
       "    <tr style=\"text-align: right;\">\n",
       "      <th></th>\n",
       "      <th>time</th>\n",
       "      <th>distance</th>\n",
       "    </tr>\n",
       "  </thead>\n",
       "  <tbody>\n",
       "    <tr>\n",
       "      <th>0</th>\n",
       "      <td>1</td>\n",
       "      <td>0.419660</td>\n",
       "    </tr>\n",
       "    <tr>\n",
       "      <th>1</th>\n",
       "      <td>2</td>\n",
       "      <td>1.350692</td>\n",
       "    </tr>\n",
       "    <tr>\n",
       "      <th>2</th>\n",
       "      <td>3</td>\n",
       "      <td>2.470342</td>\n",
       "    </tr>\n",
       "    <tr>\n",
       "      <th>3</th>\n",
       "      <td>4</td>\n",
       "      <td>1.566856</td>\n",
       "    </tr>\n",
       "    <tr>\n",
       "      <th>4</th>\n",
       "      <td>5</td>\n",
       "      <td>1.595280</td>\n",
       "    </tr>\n",
       "  </tbody>\n",
       "</table>\n",
       "</div>"
      ],
      "text/plain": [
       "   time  distance\n",
       "0     1  0.419660\n",
       "1     2  1.350692\n",
       "2     3  2.470342\n",
       "3     4  1.566856\n",
       "4     5  1.595280"
      ]
     },
     "execution_count": 31,
     "metadata": {},
     "output_type": "execute_result"
    }
   ],
   "source": [
    "dist = pd.read_csv(r\"AR - Examples - 1.5.csv\")\n",
    "dist.head()"
   ]
  },
  {
   "cell_type": "code",
   "execution_count": 32,
   "metadata": {
    "colab": {
     "base_uri": "https://localhost:8080/",
     "height": 279
    },
    "id": "OVCCqjyvQRRt",
    "outputId": "bfdea22a-fb30-4c76-9349-0d7a6368d99f"
   },
   "outputs": [
    {
     "data": {
      "image/png": "[encoded data removed]",
      "text/plain": [
       "<Figure size 432x288 with 1 Axes>"
      ]
     },
     "metadata": {
      "needs_background": "light"
     },
     "output_type": "display_data"
    }
   ],
   "source": [
    "# Plotting a scatter plot\n",
    "sns.scatterplot( data = dist , x ='time' , y='distance')\n",
    "plt.show()"
   ]
  },
  {
   "cell_type": "code",
   "execution_count": 33,
   "metadata": {
    "id": "J7ixDMYcQ0ZI"
   },
   "outputs": [],
   "source": [
    "# Splitting the dataset into X and y\n",
    "X = np.array(dist['time']).reshape(-1,1)\n",
    "y = np.array(dist['distance']).reshape(-1,1)"
   ]
  },
  {
   "cell_type": "code",
   "execution_count": 34,
   "metadata": {
    "id": "4qSfoX2TQbDE"
   },
   "outputs": [],
   "source": [
    "# Building the regression model\n",
    "model = LinearRegression()"
   ]
  },
  {
   "cell_type": "code",
   "execution_count": 35,
   "metadata": {
    "colab": {
     "base_uri": "https://localhost:8080/"
    },
    "id": "7zQZyMkYQxZd",
    "outputId": "01b15e7d-b906-40b4-dbad-5709699c3a2d"
   },
   "outputs": [
    {
     "data": {
      "text/plain": [
       "LinearRegression()"
      ]
     },
     "execution_count": 35,
     "metadata": {},
     "output_type": "execute_result"
    }
   ],
   "source": [
    "model.fit(X, y)"
   ]
  },
  {
   "cell_type": "code",
   "execution_count": 36,
   "metadata": {
    "id": "QYPbYCKfRVck"
   },
   "outputs": [],
   "source": [
    "# Predictions on the basis of the model\n",
    "y_pred2 = model.predict(X)\n",
    "# y_pred2"
   ]
  },
  {
   "cell_type": "code",
   "execution_count": 37,
   "metadata": {
    "colab": {
     "base_uri": "https://localhost:8080/"
    },
    "id": "YOHRRYgYRnZh",
    "outputId": "e8e8d8ca-a9ff-4ee3-b54d-630040f8a6cd"
   },
   "outputs": [
    {
     "data": {
      "text/plain": [
       "0.7019700219367477"
      ]
     },
     "execution_count": 37,
     "metadata": {},
     "output_type": "execute_result"
    }
   ],
   "source": [
    "# Find the value of r squared\n",
    "r2_score(y, y_pred2)"
   ]
  },
  {
   "cell_type": "code",
   "execution_count": 38,
   "metadata": {
    "colab": {
     "base_uri": "https://localhost:8080/",
     "height": 279
    },
    "id": "FenOPM6eeknm",
    "outputId": "ada81499-0571-4b3a-a6f6-43b0d61768e8"
   },
   "outputs": [
    {
     "data": {
      "image/png": "[encoded data removed]",
      "text/plain": [
       "<Figure size 432x288 with 1 Axes>"
      ]
     },
     "metadata": {
      "needs_background": "light"
     },
     "output_type": "display_data"
    }
   ],
   "source": [
    "plt.scatter( X , y , color = 'blue')\n",
    "plt.plot(X , y_pred2 , color = 'red' , linewidth = 3)\n",
    "plt.xlabel(\"time\")\n",
    "plt.ylabel(\"distance\")\n",
    "plt.show()"
   ]
  },
  {
   "cell_type": "code",
   "execution_count": 39,
   "metadata": {
    "colab": {
     "base_uri": "https://localhost:8080/"
    },
    "id": "Ed_rLssSU_AN",
    "outputId": "bd0699f3-fa00-4cc7-842f-f98a38261ebb"
   },
   "outputs": [
    {
     "name": "stdout",
     "output_type": "stream",
     "text": [
      "[3.01233335]\n",
      "[[0.02494362]]\n"
     ]
    }
   ],
   "source": [
    "# Calculate beta0 and beta1.\n",
    "print(model.intercept_)\n",
    "print(model.coef_)"
   ]
  },
  {
   "cell_type": "code",
   "execution_count": 40,
   "metadata": {
    "colab": {
     "base_uri": "https://localhost:8080/"
    },
    "id": "SdZ4Pg2qU_A0",
    "outputId": "467137b7-61b8-4966-8329-0f540cf0c924"
   },
   "outputs": [
    {
     "name": "stdout",
     "output_type": "stream",
     "text": [
      "38.03580844870773\n",
      "0.3169650704058978\n",
      "0.5629965101187553\n"
     ]
    }
   ],
   "source": [
    "# Metrics to give an overall sense of error in the model\n",
    "rss = np.sum(np.square(y - y_pred2))\n",
    "print(rss)\n",
    "mse = mean_squared_error(y, y_pred2)\n",
    "print(mse)\n",
    "rmse = mse**0.5\n",
    "print(rmse)\n"
   ]
  },
  {
   "cell_type": "code",
   "execution_count": 41,
   "metadata": {
    "id": "yjkyLZthRyrz"
   },
   "outputs": [],
   "source": [
    "#residual\n",
    "residual = y - y_pred2"
   ]
  },
  {
   "cell_type": "code",
   "execution_count": 42,
   "metadata": {
    "colab": {
     "base_uri": "https://localhost:8080/",
     "height": 279
    },
    "id": "yq1zygHBR7uT",
    "outputId": "9c9d2044-56b2-486d-e707-d00bf3732b11"
   },
   "outputs": [
    {
     "data": {
      "image/png": "[encoded data removed]",
      "text/plain": [
       "<Figure size 432x288 with 1 Axes>"
      ]
     },
     "metadata": {
      "needs_background": "light"
     },
     "output_type": "display_data"
    }
   ],
   "source": [
    "# Scatter plot of the predicted values on the x-axis and the residuals on the y-axis\n",
    "plt.scatter( y_pred2 , residual)\n",
    "plt.axhline(y=0, color='r', linestyle=':')\n",
    "plt.xlabel(\"Predicted Distance (metres)\")\n",
    "plt.ylabel(\"Residual\")\n",
    "plt.show()"
   ]
  },
  {
   "cell_type": "code",
   "execution_count": 43,
   "metadata": {
    "colab": {
     "base_uri": "https://localhost:8080/",
     "height": 295
    },
    "id": "kWRnv8RmU_A7",
    "outputId": "415729b2-b9b2-469d-a196-8affc9f9a285"
   },
   "outputs": [
    {
     "data": {
      "image/png": "[encoded data removed]",
      "text/plain": [
       "<Figure size 432x288 with 1 Axes>"
      ]
     },
     "metadata": {
      "needs_background": "light"
     },
     "output_type": "display_data"
    }
   ],
   "source": [
    "# Distribution of errors\n",
    "p = sns.distplot(residual,kde=True)\n",
    "p = plt.title('Normality of error terms/residuals')\n",
    "plt.xlabel(\"Residual\")\n",
    "plt.show()"
   ]
  },
  {
   "cell_type": "code",
   "execution_count": 44,
   "metadata": {
    "id": "iZydkRm_GZTg"
   },
   "outputs": [],
   "source": [
    "# As we can see that the residuals do not fulfill the conditions for linear regression, Lets see if we can make some changes so that the residuals are normally distributed.\n",
    "\n",
    "dist['time (seconds)(log)'] = np.log(dist['time'])"
   ]
  },
  {
   "cell_type": "code",
   "execution_count": 45,
   "metadata": {
    "colab": {
     "base_uri": "https://localhost:8080/",
     "height": 279
    },
    "id": "L5pRvbyzP56h",
    "outputId": "69fc8270-8e6f-4a5e-e22b-085390cfd76a"
   },
   "outputs": [
    {
     "data": {
      "image/png": "[encoded data removed]",
      "text/plain": [
       "<Figure size 432x288 with 1 Axes>"
      ]
     },
     "metadata": {
      "needs_background": "light"
     },
     "output_type": "display_data"
    }
   ],
   "source": [
    "# Plotting a scatter plot\n",
    "sns.scatterplot( data = dist , x ='time (seconds)(log)' , y='distance')\n",
    "plt.show()"
   ]
  },
  {
   "cell_type": "code",
   "execution_count": 46,
   "metadata": {
    "id": "eGaZ6aH2GeR5"
   },
   "outputs": [],
   "source": [
    "# Splitting the dataset into X and y\n",
    "X = np.array(dist['time (seconds)(log)']).reshape(-1,1)\n",
    "y = np.array(dist['distance']).reshape(-1,1)"
   ]
  },
  {
   "cell_type": "code",
   "execution_count": 47,
   "metadata": {
    "colab": {
     "base_uri": "https://localhost:8080/"
    },
    "id": "F4CkavBbGeli",
    "outputId": "c9427656-9181-4e1f-a2d9-f0e91a3a7f91"
   },
   "outputs": [
    {
     "data": {
      "text/plain": [
       "LinearRegression()"
      ]
     },
     "execution_count": 47,
     "metadata": {},
     "output_type": "execute_result"
    }
   ],
   "source": [
    "# Building the regression model\n",
    "model = LinearRegression()\n",
    "\n",
    "model.fit(X, y)"
   ]
  },
  {
   "cell_type": "code",
   "execution_count": 48,
   "metadata": {
    "id": "w0tcA9ZYGe7l"
   },
   "outputs": [],
   "source": [
    "# Predictions on the basis of the model\n",
    "y_pred2 = model.predict(X)\n",
    "# y_pred2"
   ]
  },
  {
   "cell_type": "code",
   "execution_count": 49,
   "metadata": {
    "colab": {
     "base_uri": "https://localhost:8080/"
    },
    "id": "mi0YdcvhGfKv",
    "outputId": "a8986948-a05b-4a48-fa95-508292cd21cf"
   },
   "outputs": [
    {
     "data": {
      "text/plain": [
       "0.8717123012103077"
      ]
     },
     "execution_count": 49,
     "metadata": {},
     "output_type": "execute_result"
    }
   ],
   "source": [
    "# Find the value of r squared\n",
    "r2_score(y, y_pred2)"
   ]
  },
  {
   "cell_type": "code",
   "execution_count": 50,
   "metadata": {
    "colab": {
     "base_uri": "https://localhost:8080/",
     "height": 279
    },
    "id": "co43cHt_eknr",
    "outputId": "96800ceb-6ae6-42bc-808e-d84e963e37ba"
   },
   "outputs": [
    {
     "data": {
      "image/png": "[encoded data removed]",
      "text/plain": [
       "<Figure size 432x288 with 1 Axes>"
      ]
     },
     "metadata": {
      "needs_background": "light"
     },
     "output_type": "display_data"
    }
   ],
   "source": [
    "plt.scatter( X , y , color = 'blue')\n",
    "plt.plot(X , y_pred2 , color = 'red' , linewidth = 3)\n",
    "plt.xlabel(\"time (seconds)(log)\")\n",
    "plt.ylabel(\"distance\")\n",
    "plt.show()"
   ]
  },
  {
   "cell_type": "code",
   "execution_count": 51,
   "metadata": {
    "colab": {
     "base_uri": "https://localhost:8080/"
    },
    "id": "F5_SnhXPGgGR",
    "outputId": "d4ce7f34-47f7-49ff-cfec-c68c84fc661a"
   },
   "outputs": [
    {
     "name": "stdout",
     "output_type": "stream",
     "text": [
      "[0.58066733]\n",
      "[[1.03293534]]\n"
     ]
    }
   ],
   "source": [
    "# Calculate beta0 and beta1.\n",
    "print(model.intercept_)\n",
    "print(model.coef_)"
   ]
  },
  {
   "cell_type": "code",
   "execution_count": 52,
   "metadata": {
    "colab": {
     "base_uri": "https://localhost:8080/"
    },
    "id": "Awrqfc0TGt9H",
    "outputId": "03c829c9-2cd8-423b-a934-0a17ed3989a9"
   },
   "outputs": [
    {
     "name": "stdout",
     "output_type": "stream",
     "text": [
      "16.372602411340793\n",
      "0.13643835342783994\n",
      "0.369375626466934\n"
     ]
    }
   ],
   "source": [
    "# Metrics to give an overall sense of error in the model\n",
    "rss = np.sum(np.square(y - y_pred2))\n",
    "print(rss)\n",
    "mse = mean_squared_error(y, y_pred2)\n",
    "print(mse)\n",
    "rmse = mse**0.5\n",
    "print(rmse)"
   ]
  },
  {
   "cell_type": "code",
   "execution_count": 53,
   "metadata": {
    "id": "o-eMLCGCGfi_"
   },
   "outputs": [],
   "source": [
    "#residual\n",
    "residual = y - y_pred2"
   ]
  },
  {
   "cell_type": "code",
   "execution_count": 54,
   "metadata": {
    "colab": {
     "base_uri": "https://localhost:8080/",
     "height": 279
    },
    "id": "YxL2MJuLGf1r",
    "outputId": "cf9ebac6-2932-487e-e76d-3c7194cdd338"
   },
   "outputs": [
    {
     "data": {
      "image/png": "[encoded data removed]",
      "text/plain": [
       "<Figure size 432x288 with 1 Axes>"
      ]
     },
     "metadata": {
      "needs_background": "light"
     },
     "output_type": "display_data"
    }
   ],
   "source": [
    "plt.scatter( y_pred2 , residual)\n",
    "plt.axhline(y=0, color='r', linestyle=':')\n",
    "plt.xlabel(\"Predicted Distance (metres)\")\n",
    "plt.ylabel(\"Residual\")\n",
    "plt.show()"
   ]
  },
  {
   "cell_type": "code",
   "execution_count": 55,
   "metadata": {
    "colab": {
     "base_uri": "https://localhost:8080/",
     "height": 295
    },
    "id": "Mo-yITcvGt2s",
    "outputId": "e3081136-c170-47e4-d099-ad31cb8a1fbe"
   },
   "outputs": [
    {
     "data": {
      "image/png": "[encoded data removed]",
      "text/plain": [
       "<Figure size 432x288 with 1 Axes>"
      ]
     },
     "metadata": {
      "needs_background": "light"
     },
     "output_type": "display_data"
    }
   ],
   "source": [
    "# Distribution of errors\n",
    "p = sns.distplot(residual,kde=True)\n",
    "p = plt.title('Normality of error terms/residuals')\n",
    "plt.xlabel(\"Residual\")\n",
    "plt.show()"
   ]
  }
 ],
 "metadata": {
  "colab": {
   "name": "Polynomial Regression and Data Transformation.ipynb",
   "provenance": [],
   "toc_visible": true
  },
  "kernelspec": {
   "display_name": "Python 3 (ipykernel)",
   "language": "python",
   "name": "python3"
  },
  "language_info": {
   "codemirror_mode": {
    "name": "ipython",
    "version": 3
   },
   "file_extension": ".py",
   "mimetype": "text/x-python",
   "name": "python",
   "nbconvert_exporter": "python",
   "pygments_lexer": "ipython3",
   "version": "3.9.12"
  }
 },
 "nbformat": 4,
 "nbformat_minor": 1
}
